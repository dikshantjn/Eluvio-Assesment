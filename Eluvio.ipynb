{
  "nbformat": 4,
  "nbformat_minor": 0,
  "metadata": {
    "colab": {
      "name": "Eluvio.ipynb",
      "provenance": []
    },
    "kernelspec": {
      "name": "python3",
      "display_name": "Python 3"
    },
    "language_info": {
      "name": "python"
    }
  },
  "cells": [
    {
      "cell_type": "code",
      "metadata": {
        "colab": {
          "base_uri": "https://localhost:8080/"
        },
        "id": "g8RfqPjqj3Ct",
        "outputId": "4d302b8a-6909-42f9-ecb6-d970d32c14bd"
      },
      "source": [
        "from google.colab import drive\n",
        "drive.mount('/drive')"
      ],
      "execution_count": 1,
      "outputs": [
        {
          "output_type": "stream",
          "text": [
            "Mounted at /drive\n"
          ],
          "name": "stdout"
        }
      ]
    },
    {
      "cell_type": "code",
      "metadata": {
        "id": "qbtvcx4_j_Db"
      },
      "source": [
        "def find_longest_strand(filename):\n",
        "  BaseDir = '/drive/MyDrive/Eluvio Challenge - Core Engineering/'\n",
        "  maxlength=[]\n",
        "  offset=[]\n",
        "  for filen in filename:\n",
        "    Currentfile = open(os.path.join(BaseDir,str(filen)), 'rb') # read only\n",
        "    index = 0\n",
        "    mLen = 0\n",
        "    off = 0\n",
        "    for line in Currentfile:\n",
        "      l = len(line.rstrip())\n",
        "      if l > mLen:\n",
        "        mLen = l\n",
        "        off = index\n",
        "      index += 1\n",
        "    maxlength.append(mLen)\n",
        "    offset.append(off)\n",
        "  \n",
        "  max_val = max(maxlength)\n",
        "  max_index = maxlength.index(max_val)\n",
        "  print(max_val, max_index)\n",
        "  return filename[max_index], max_val, offset[max_index]"
      ],
      "execution_count": 13,
      "outputs": []
    },
    {
      "cell_type": "code",
      "metadata": {
        "colab": {
          "base_uri": "https://localhost:8080/"
        },
        "id": "Uud9YSXJkCPx",
        "outputId": "1b15a854-25b0-474d-9de4-7e0acb6d7f03"
      },
      "source": [
        "import os\n",
        "import numpy as np\n",
        "\n",
        "#list to store names of all the binary files\n",
        "files =[]\n",
        "\n",
        "#Add all binary files to list\n",
        "BaseDir = '/drive/MyDrive/Eluvio Challenge - Core Engineering/'\n",
        "for SampleFile in os.listdir(BaseDir):\n",
        "    prefix = ('sample.')\n",
        "    if SampleFile.startswith(prefix):\n",
        "      files.append(SampleFile)\n",
        "print (files)\n",
        "filen, value, offset = find_longest_strand(files)\n",
        "print(\"Filename: %s\\nLength: %s\\nOffset: %s\" % (filen, value, offset))"
      ],
      "execution_count": 14,
      "outputs": [
        {
          "output_type": "stream",
          "text": [
            "['sample.3', 'sample.1', 'sample.5', 'sample.2', 'sample.4', 'sample.7', 'sample.6', 'sample.9', 'sample.8', 'sample.10']\n",
            "1255 9\n",
            "Filename: sample.10\n",
            "Length: 1255\n",
            "Offset: 47\n"
          ],
          "name": "stdout"
        }
      ]
    }
  ]
}